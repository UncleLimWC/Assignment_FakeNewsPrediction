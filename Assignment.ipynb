{
 "cells": [
  {
   "cell_type": "markdown",
   "id": "b91668be-1092-478a-b607-091c489ddb76",
   "metadata": {},
   "source": [
    "# Assignment (Fake News Prediction)"
   ]
  },
  {
   "cell_type": "markdown",
   "id": "7108e07f-d271-4326-87ee-a169bf121b05",
   "metadata": {},
   "source": [
    "## Load The Dataset"
   ]
  },
  {
   "cell_type": "code",
   "execution_count": 1,
   "id": "62f4d46c-15f3-4026-ad3d-808c2f88a2f7",
   "metadata": {},
   "outputs": [],
   "source": [
    "# import libraries\n",
    "import numpy as np\n",
    "import matplotlib.pyplot as plt\n",
    "import nltk\n",
    "\n",
    "from sklearn.model_selection import train_test_split\n",
    "from sklearn.feature_extraction.text import TfidfVectorizer  \n",
    "from sklearn.svm import LinearSVC"
   ]
  },
  {
   "cell_type": "code",
   "execution_count": 2,
   "id": "1594fe0c-66c4-4a0b-96ca-7a0b0fac92ab",
   "metadata": {},
   "outputs": [],
   "source": [
    "# Load datasets for fake and true \n",
    "import pandas as pd\n",
    "fakeData = pd.read_csv('Data/Fake.csv')\n",
    "trueData = pd.read_csv('Data/True.csv')"
   ]
  },
  {
   "cell_type": "code",
   "execution_count": 3,
   "id": "519987c2-734f-482c-9cc6-c25e1ad14dd9",
   "metadata": {},
   "outputs": [
    {
     "data": {
      "text/html": [
       "<div>\n",
       "<style scoped>\n",
       "    .dataframe tbody tr th:only-of-type {\n",
       "        vertical-align: middle;\n",
       "    }\n",
       "\n",
       "    .dataframe tbody tr th {\n",
       "        vertical-align: top;\n",
       "    }\n",
       "\n",
       "    .dataframe thead th {\n",
       "        text-align: right;\n",
       "    }\n",
       "</style>\n",
       "<table border=\"1\" class=\"dataframe\">\n",
       "  <thead>\n",
       "    <tr style=\"text-align: right;\">\n",
       "      <th></th>\n",
       "      <th>title</th>\n",
       "      <th>text</th>\n",
       "      <th>subject</th>\n",
       "      <th>date</th>\n",
       "    </tr>\n",
       "  </thead>\n",
       "  <tbody>\n",
       "    <tr>\n",
       "      <th>0</th>\n",
       "      <td>Donald Trump Sends Out Embarrassing New Year’...</td>\n",
       "      <td>Donald Trump just couldn t wish all Americans ...</td>\n",
       "      <td>News</td>\n",
       "      <td>December 31, 2017</td>\n",
       "    </tr>\n",
       "    <tr>\n",
       "      <th>1</th>\n",
       "      <td>Drunk Bragging Trump Staffer Started Russian ...</td>\n",
       "      <td>House Intelligence Committee Chairman Devin Nu...</td>\n",
       "      <td>News</td>\n",
       "      <td>December 31, 2017</td>\n",
       "    </tr>\n",
       "    <tr>\n",
       "      <th>2</th>\n",
       "      <td>Sheriff David Clarke Becomes An Internet Joke...</td>\n",
       "      <td>On Friday, it was revealed that former Milwauk...</td>\n",
       "      <td>News</td>\n",
       "      <td>December 30, 2017</td>\n",
       "    </tr>\n",
       "    <tr>\n",
       "      <th>3</th>\n",
       "      <td>Trump Is So Obsessed He Even Has Obama’s Name...</td>\n",
       "      <td>On Christmas day, Donald Trump announced that ...</td>\n",
       "      <td>News</td>\n",
       "      <td>December 29, 2017</td>\n",
       "    </tr>\n",
       "    <tr>\n",
       "      <th>4</th>\n",
       "      <td>Pope Francis Just Called Out Donald Trump Dur...</td>\n",
       "      <td>Pope Francis used his annual Christmas Day mes...</td>\n",
       "      <td>News</td>\n",
       "      <td>December 25, 2017</td>\n",
       "    </tr>\n",
       "  </tbody>\n",
       "</table>\n",
       "</div>"
      ],
      "text/plain": [
       "                                               title  \\\n",
       "0   Donald Trump Sends Out Embarrassing New Year’...   \n",
       "1   Drunk Bragging Trump Staffer Started Russian ...   \n",
       "2   Sheriff David Clarke Becomes An Internet Joke...   \n",
       "3   Trump Is So Obsessed He Even Has Obama’s Name...   \n",
       "4   Pope Francis Just Called Out Donald Trump Dur...   \n",
       "\n",
       "                                                text subject  \\\n",
       "0  Donald Trump just couldn t wish all Americans ...    News   \n",
       "1  House Intelligence Committee Chairman Devin Nu...    News   \n",
       "2  On Friday, it was revealed that former Milwauk...    News   \n",
       "3  On Christmas day, Donald Trump announced that ...    News   \n",
       "4  Pope Francis used his annual Christmas Day mes...    News   \n",
       "\n",
       "                date  \n",
       "0  December 31, 2017  \n",
       "1  December 31, 2017  \n",
       "2  December 30, 2017  \n",
       "3  December 29, 2017  \n",
       "4  December 25, 2017  "
      ]
     },
     "execution_count": 3,
     "metadata": {},
     "output_type": "execute_result"
    }
   ],
   "source": [
    "# observe the first 5 rows of true News\n",
    "fakeData.head()"
   ]
  },
  {
   "cell_type": "code",
   "execution_count": 4,
   "id": "542226ac-baca-4bc0-961d-ed6ccebf7cac",
   "metadata": {},
   "outputs": [
    {
     "name": "stdout",
     "output_type": "stream",
     "text": [
      "<class 'pandas.core.frame.DataFrame'>\n",
      "RangeIndex: 23481 entries, 0 to 23480\n",
      "Data columns (total 4 columns):\n",
      " #   Column   Non-Null Count  Dtype \n",
      "---  ------   --------------  ----- \n",
      " 0   title    23481 non-null  object\n",
      " 1   text     23481 non-null  object\n",
      " 2   subject  23481 non-null  object\n",
      " 3   date     23481 non-null  object\n",
      "dtypes: object(4)\n",
      "memory usage: 733.9+ KB\n"
     ]
    }
   ],
   "source": [
    "#information about fields\n",
    "fakeData.info()"
   ]
  },
  {
   "cell_type": "code",
   "execution_count": 5,
   "id": "e2b38972-c3b0-4878-8555-3dfb32391d69",
   "metadata": {},
   "outputs": [
    {
     "data": {
      "text/plain": [
       "'House Intelligence Committee Chairman Devin Nunes is going to have a bad day. He s been under the assumption, like many of us, that the Christopher Steele-dossier was what prompted the Russia investigation so he s been lashing out at the Department of Justice and the FBI in order to protect Trump. As it happens, the dossier is not what started the investigation, according to documents obtained by the New York Times.Former Trump campaign adviser George Papadopoulos was drunk in a wine bar when he revealed knowledge of Russian opposition research on Hillary Clinton.On top of that, Papadopoulos wasn t just a covfefe boy for Trump, as his administration has alleged. He had a much larger role, but none so damning as being a drunken fool in a wine bar. Coffee boys  don t help to arrange a New York meeting between Trump and President Abdel Fattah el-Sisi of Egypt two months before the election. It was known before that the former aide set up meetings with world leaders for Trump, but team Trump ran with him being merely a coffee boy.In May 2016, Papadopoulos revealed to Australian diplomat Alexander Downer that Russian officials were shopping around possible dirt on then-Democratic presidential nominee Hillary Clinton. Exactly how much Mr. Papadopoulos said that night at the Kensington Wine Rooms with the Australian, Alexander Downer, is unclear,  the report states.  But two months later, when leaked Democratic emails began appearing online, Australian officials passed the information about Mr. Papadopoulos to their American counterparts, according to four current and former American and foreign officials with direct knowledge of the Australians  role. Papadopoulos pleaded guilty to lying to the F.B.I. and is now a cooperating witness with Special Counsel Robert Mueller s team.This isn t a presidency. It s a badly scripted reality TV show.Photo by Win McNamee/Getty Images.'"
      ]
     },
     "execution_count": 5,
     "metadata": {},
     "output_type": "execute_result"
    }
   ],
   "source": [
    "fakeData['text'][1]"
   ]
  },
  {
   "cell_type": "code",
   "execution_count": 6,
   "id": "de609b74-2119-4b68-90a8-e1df9dd416fe",
   "metadata": {},
   "outputs": [
    {
     "data": {
      "text/html": [
       "<div>\n",
       "<style scoped>\n",
       "    .dataframe tbody tr th:only-of-type {\n",
       "        vertical-align: middle;\n",
       "    }\n",
       "\n",
       "    .dataframe tbody tr th {\n",
       "        vertical-align: top;\n",
       "    }\n",
       "\n",
       "    .dataframe thead th {\n",
       "        text-align: right;\n",
       "    }\n",
       "</style>\n",
       "<table border=\"1\" class=\"dataframe\">\n",
       "  <thead>\n",
       "    <tr style=\"text-align: right;\">\n",
       "      <th></th>\n",
       "      <th>title</th>\n",
       "      <th>text</th>\n",
       "      <th>subject</th>\n",
       "      <th>date</th>\n",
       "    </tr>\n",
       "  </thead>\n",
       "  <tbody>\n",
       "    <tr>\n",
       "      <th>0</th>\n",
       "      <td>As U.S. budget fight looms, Republicans flip t...</td>\n",
       "      <td>WASHINGTON (Reuters) - The head of a conservat...</td>\n",
       "      <td>politicsNews</td>\n",
       "      <td>December 31, 2017</td>\n",
       "    </tr>\n",
       "    <tr>\n",
       "      <th>1</th>\n",
       "      <td>U.S. military to accept transgender recruits o...</td>\n",
       "      <td>WASHINGTON (Reuters) - Transgender people will...</td>\n",
       "      <td>politicsNews</td>\n",
       "      <td>December 29, 2017</td>\n",
       "    </tr>\n",
       "    <tr>\n",
       "      <th>2</th>\n",
       "      <td>Senior U.S. Republican senator: 'Let Mr. Muell...</td>\n",
       "      <td>WASHINGTON (Reuters) - The special counsel inv...</td>\n",
       "      <td>politicsNews</td>\n",
       "      <td>December 31, 2017</td>\n",
       "    </tr>\n",
       "    <tr>\n",
       "      <th>3</th>\n",
       "      <td>FBI Russia probe helped by Australian diplomat...</td>\n",
       "      <td>WASHINGTON (Reuters) - Trump campaign adviser ...</td>\n",
       "      <td>politicsNews</td>\n",
       "      <td>December 30, 2017</td>\n",
       "    </tr>\n",
       "    <tr>\n",
       "      <th>4</th>\n",
       "      <td>Trump wants Postal Service to charge 'much mor...</td>\n",
       "      <td>SEATTLE/WASHINGTON (Reuters) - President Donal...</td>\n",
       "      <td>politicsNews</td>\n",
       "      <td>December 29, 2017</td>\n",
       "    </tr>\n",
       "  </tbody>\n",
       "</table>\n",
       "</div>"
      ],
      "text/plain": [
       "                                               title  \\\n",
       "0  As U.S. budget fight looms, Republicans flip t...   \n",
       "1  U.S. military to accept transgender recruits o...   \n",
       "2  Senior U.S. Republican senator: 'Let Mr. Muell...   \n",
       "3  FBI Russia probe helped by Australian diplomat...   \n",
       "4  Trump wants Postal Service to charge 'much mor...   \n",
       "\n",
       "                                                text       subject  \\\n",
       "0  WASHINGTON (Reuters) - The head of a conservat...  politicsNews   \n",
       "1  WASHINGTON (Reuters) - Transgender people will...  politicsNews   \n",
       "2  WASHINGTON (Reuters) - The special counsel inv...  politicsNews   \n",
       "3  WASHINGTON (Reuters) - Trump campaign adviser ...  politicsNews   \n",
       "4  SEATTLE/WASHINGTON (Reuters) - President Donal...  politicsNews   \n",
       "\n",
       "                 date  \n",
       "0  December 31, 2017   \n",
       "1  December 29, 2017   \n",
       "2  December 31, 2017   \n",
       "3  December 30, 2017   \n",
       "4  December 29, 2017   "
      ]
     },
     "execution_count": 6,
     "metadata": {},
     "output_type": "execute_result"
    }
   ],
   "source": [
    "# Observe the first 5 rows of True news\n",
    "trueData.head()"
   ]
  },
  {
   "cell_type": "code",
   "execution_count": 7,
   "id": "2eecebda-d5c5-4144-b006-e35cd92f6128",
   "metadata": {},
   "outputs": [
    {
     "data": {
      "text/plain": [
       "'WASHINGTON (Reuters) - The special counsel investigation of links between Russia and President Trump’s 2016 election campaign should continue without interference in 2018, despite calls from some Trump administration allies and Republican lawmakers to shut it down, a prominent Republican senator said on Sunday. Lindsey Graham, who serves on the Senate armed forces and judiciary committees, said Department of Justice Special Counsel Robert Mueller needs to carry on with his Russia investigation without political interference. “This investigation will go forward. It will be an investigation conducted without political influence,” Graham said on CBS’s Face the Nation news program. “And we all need to let Mr. Mueller do his job. I think he’s the right guy at the right time.”  The question of how Russia may have interfered in the election, and how Trump’s campaign may have had links with or co-ordinated any such effort, has loomed over the White House since Trump took office in January. It shows no sign of receding as Trump prepares for his second year in power, despite intensified rhetoric from some Trump allies in recent weeks accusing Mueller’s team of bias against the Republican president. Trump himself seemed to undercut his supporters in an interview last week with the New York Times in which he said he expected Mueller was “going to be fair.”    Russia’s role in the election and the question of possible links to the Trump campaign are the focus of multiple inquiries in Washington. Three committees of the Senate and the House of Representatives are investigating, as well as Mueller, whose team in May took over an earlier probe launched by the U.S. Federal Bureau of Investigation (FBI). Several members of the Trump campaign and administration have been convicted or indicted in the investigation.  Trump and his allies deny any collusion with Russia during the campaign, and the Kremlin has denied meddling in the election. Graham said he still wants an examination of the FBI’s use of a dossier on links between Trump and Russia that was compiled by a former British spy, Christopher Steele, which prompted Trump allies and some Republicans to question Mueller’s inquiry.   On Saturday, the New York Times reported that it was not that dossier that triggered an early FBI probe, but a tip from former Trump campaign foreign policy adviser George Papadopoulos to an Australian diplomat that Russia had damaging information about former Trump rival Hillary Clinton.  “I want somebody to look at the way the Department of Justice used this dossier. It bothers me greatly the way they used it, and I want somebody to look at it,” Graham said. But he said the Russia investigation must continue. “As a matter of fact, it would hurt us if we ignored it,” he said. '"
      ]
     },
     "execution_count": 7,
     "metadata": {},
     "output_type": "execute_result"
    }
   ],
   "source": [
    "trueData['text'][2]"
   ]
  },
  {
   "cell_type": "code",
   "execution_count": 8,
   "id": "d44a2993-150d-4f20-8bd6-baafe9bd39f6",
   "metadata": {},
   "outputs": [],
   "source": [
    "# create target variable for both data frames\n",
    "# if news article is fake it will be denoted as 0\n",
    "fakeData['class'] = 0\n",
    "# if news article is true it will be denoted as 1\n",
    "trueData['class'] = 1"
   ]
  },
  {
   "cell_type": "code",
   "execution_count": 9,
   "id": "00631d4c-187b-4b5d-a9e3-30f415761484",
   "metadata": {},
   "outputs": [
    {
     "data": {
      "text/html": [
       "<div>\n",
       "<style scoped>\n",
       "    .dataframe tbody tr th:only-of-type {\n",
       "        vertical-align: middle;\n",
       "    }\n",
       "\n",
       "    .dataframe tbody tr th {\n",
       "        vertical-align: top;\n",
       "    }\n",
       "\n",
       "    .dataframe thead th {\n",
       "        text-align: right;\n",
       "    }\n",
       "</style>\n",
       "<table border=\"1\" class=\"dataframe\">\n",
       "  <thead>\n",
       "    <tr style=\"text-align: right;\">\n",
       "      <th></th>\n",
       "      <th>title</th>\n",
       "      <th>text</th>\n",
       "      <th>subject</th>\n",
       "      <th>date</th>\n",
       "      <th>class</th>\n",
       "    </tr>\n",
       "  </thead>\n",
       "  <tbody>\n",
       "    <tr>\n",
       "      <th>0</th>\n",
       "      <td>Donald Trump Sends Out Embarrassing New Year’...</td>\n",
       "      <td>Donald Trump just couldn t wish all Americans ...</td>\n",
       "      <td>News</td>\n",
       "      <td>December 31, 2017</td>\n",
       "      <td>0</td>\n",
       "    </tr>\n",
       "    <tr>\n",
       "      <th>1</th>\n",
       "      <td>Drunk Bragging Trump Staffer Started Russian ...</td>\n",
       "      <td>House Intelligence Committee Chairman Devin Nu...</td>\n",
       "      <td>News</td>\n",
       "      <td>December 31, 2017</td>\n",
       "      <td>0</td>\n",
       "    </tr>\n",
       "    <tr>\n",
       "      <th>2</th>\n",
       "      <td>Sheriff David Clarke Becomes An Internet Joke...</td>\n",
       "      <td>On Friday, it was revealed that former Milwauk...</td>\n",
       "      <td>News</td>\n",
       "      <td>December 30, 2017</td>\n",
       "      <td>0</td>\n",
       "    </tr>\n",
       "    <tr>\n",
       "      <th>3</th>\n",
       "      <td>Trump Is So Obsessed He Even Has Obama’s Name...</td>\n",
       "      <td>On Christmas day, Donald Trump announced that ...</td>\n",
       "      <td>News</td>\n",
       "      <td>December 29, 2017</td>\n",
       "      <td>0</td>\n",
       "    </tr>\n",
       "    <tr>\n",
       "      <th>4</th>\n",
       "      <td>Pope Francis Just Called Out Donald Trump Dur...</td>\n",
       "      <td>Pope Francis used his annual Christmas Day mes...</td>\n",
       "      <td>News</td>\n",
       "      <td>December 25, 2017</td>\n",
       "      <td>0</td>\n",
       "    </tr>\n",
       "  </tbody>\n",
       "</table>\n",
       "</div>"
      ],
      "text/plain": [
       "                                               title  \\\n",
       "0   Donald Trump Sends Out Embarrassing New Year’...   \n",
       "1   Drunk Bragging Trump Staffer Started Russian ...   \n",
       "2   Sheriff David Clarke Becomes An Internet Joke...   \n",
       "3   Trump Is So Obsessed He Even Has Obama’s Name...   \n",
       "4   Pope Francis Just Called Out Donald Trump Dur...   \n",
       "\n",
       "                                                text subject  \\\n",
       "0  Donald Trump just couldn t wish all Americans ...    News   \n",
       "1  House Intelligence Committee Chairman Devin Nu...    News   \n",
       "2  On Friday, it was revealed that former Milwauk...    News   \n",
       "3  On Christmas day, Donald Trump announced that ...    News   \n",
       "4  Pope Francis used his annual Christmas Day mes...    News   \n",
       "\n",
       "                date  class  \n",
       "0  December 31, 2017      0  \n",
       "1  December 31, 2017      0  \n",
       "2  December 30, 2017      0  \n",
       "3  December 29, 2017      0  \n",
       "4  December 25, 2017      0  "
      ]
     },
     "execution_count": 9,
     "metadata": {},
     "output_type": "execute_result"
    }
   ],
   "source": [
    "fakeData.head(5)"
   ]
  },
  {
   "cell_type": "code",
   "execution_count": 10,
   "id": "6502dbd9-9b8a-4f41-8a20-b2870140500c",
   "metadata": {},
   "outputs": [
    {
     "data": {
      "text/html": [
       "<div>\n",
       "<style scoped>\n",
       "    .dataframe tbody tr th:only-of-type {\n",
       "        vertical-align: middle;\n",
       "    }\n",
       "\n",
       "    .dataframe tbody tr th {\n",
       "        vertical-align: top;\n",
       "    }\n",
       "\n",
       "    .dataframe thead th {\n",
       "        text-align: right;\n",
       "    }\n",
       "</style>\n",
       "<table border=\"1\" class=\"dataframe\">\n",
       "  <thead>\n",
       "    <tr style=\"text-align: right;\">\n",
       "      <th></th>\n",
       "      <th>title</th>\n",
       "      <th>text</th>\n",
       "      <th>subject</th>\n",
       "      <th>date</th>\n",
       "      <th>class</th>\n",
       "    </tr>\n",
       "  </thead>\n",
       "  <tbody>\n",
       "    <tr>\n",
       "      <th>0</th>\n",
       "      <td>As U.S. budget fight looms, Republicans flip t...</td>\n",
       "      <td>WASHINGTON (Reuters) - The head of a conservat...</td>\n",
       "      <td>politicsNews</td>\n",
       "      <td>December 31, 2017</td>\n",
       "      <td>1</td>\n",
       "    </tr>\n",
       "    <tr>\n",
       "      <th>1</th>\n",
       "      <td>U.S. military to accept transgender recruits o...</td>\n",
       "      <td>WASHINGTON (Reuters) - Transgender people will...</td>\n",
       "      <td>politicsNews</td>\n",
       "      <td>December 29, 2017</td>\n",
       "      <td>1</td>\n",
       "    </tr>\n",
       "    <tr>\n",
       "      <th>2</th>\n",
       "      <td>Senior U.S. Republican senator: 'Let Mr. Muell...</td>\n",
       "      <td>WASHINGTON (Reuters) - The special counsel inv...</td>\n",
       "      <td>politicsNews</td>\n",
       "      <td>December 31, 2017</td>\n",
       "      <td>1</td>\n",
       "    </tr>\n",
       "    <tr>\n",
       "      <th>3</th>\n",
       "      <td>FBI Russia probe helped by Australian diplomat...</td>\n",
       "      <td>WASHINGTON (Reuters) - Trump campaign adviser ...</td>\n",
       "      <td>politicsNews</td>\n",
       "      <td>December 30, 2017</td>\n",
       "      <td>1</td>\n",
       "    </tr>\n",
       "    <tr>\n",
       "      <th>4</th>\n",
       "      <td>Trump wants Postal Service to charge 'much mor...</td>\n",
       "      <td>SEATTLE/WASHINGTON (Reuters) - President Donal...</td>\n",
       "      <td>politicsNews</td>\n",
       "      <td>December 29, 2017</td>\n",
       "      <td>1</td>\n",
       "    </tr>\n",
       "  </tbody>\n",
       "</table>\n",
       "</div>"
      ],
      "text/plain": [
       "                                               title  \\\n",
       "0  As U.S. budget fight looms, Republicans flip t...   \n",
       "1  U.S. military to accept transgender recruits o...   \n",
       "2  Senior U.S. Republican senator: 'Let Mr. Muell...   \n",
       "3  FBI Russia probe helped by Australian diplomat...   \n",
       "4  Trump wants Postal Service to charge 'much mor...   \n",
       "\n",
       "                                                text       subject  \\\n",
       "0  WASHINGTON (Reuters) - The head of a conservat...  politicsNews   \n",
       "1  WASHINGTON (Reuters) - Transgender people will...  politicsNews   \n",
       "2  WASHINGTON (Reuters) - The special counsel inv...  politicsNews   \n",
       "3  WASHINGTON (Reuters) - Trump campaign adviser ...  politicsNews   \n",
       "4  SEATTLE/WASHINGTON (Reuters) - President Donal...  politicsNews   \n",
       "\n",
       "                 date  class  \n",
       "0  December 31, 2017       1  \n",
       "1  December 29, 2017       1  \n",
       "2  December 31, 2017       1  \n",
       "3  December 30, 2017       1  \n",
       "4  December 29, 2017       1  "
      ]
     },
     "execution_count": 10,
     "metadata": {},
     "output_type": "execute_result"
    }
   ],
   "source": [
    "trueData.head(5)"
   ]
  },
  {
   "cell_type": "code",
   "execution_count": 11,
   "id": "50584dd2-16f0-454c-92b5-d32b6b4be3e5",
   "metadata": {},
   "outputs": [
    {
     "data": {
      "text/plain": [
       "((23481, 5), (21417, 5))"
      ]
     },
     "execution_count": 11,
     "metadata": {},
     "output_type": "execute_result"
    }
   ],
   "source": [
    "# shape of both data frames\n",
    "fakeData.shape, trueData.shape"
   ]
  },
  {
   "cell_type": "markdown",
   "id": "277b9715-ce0d-466d-894b-611344470559",
   "metadata": {},
   "source": [
    "Purpose for put last 10 row (fake and true into data frame)\n",
    "- Manual Testing for Both the Dataset\n",
    "- What is Manual Testing\n",
    "- -> The process of manually checking software for faults is known as manual testing. It requires a tester to act like an end user, using the majority of the application's capabilities to ensure proper behavior."
   ]
  },
  {
   "cell_type": "code",
   "execution_count": 12,
   "id": "f6f01ebb-9f53-4bbb-9bf0-9ad10a6e2eb8",
   "metadata": {},
   "outputs": [],
   "source": [
    "# putting last 10 rows of fake news into a data frame\n",
    "fakeData_manual_testing = fakeData.tail(10)\n",
    "\n",
    "# dropping the last 10 rows of fake news from original fake news df\n",
    "for i in range(23480, 23470, -1):\n",
    "    fakeData.drop([i], axis = 0, inplace = True)\n",
    "\n",
    "# putting last 10 rows of true news into a data frame\n",
    "trueData_manual_testing = trueData.tail(10)\n",
    "\n",
    "# dropping the last 10 rows of true news from original true news df\n",
    "for i in range(21416, 21406, -1):\n",
    "    trueData.drop([i], axis = 0, inplace = True)"
   ]
  },
  {
   "cell_type": "code",
   "execution_count": 13,
   "id": "7110b875-4e07-4a3a-a407-4e1700a60749",
   "metadata": {},
   "outputs": [
    {
     "data": {
      "text/plain": [
       "((23471, 5), (21407, 5))"
      ]
     },
     "execution_count": 13,
     "metadata": {},
     "output_type": "execute_result"
    }
   ],
   "source": [
    "# check both data frames dimensions after dropping the last 10 rows\n",
    "fakeData.shape, trueData.shape"
   ]
  },
  {
   "cell_type": "code",
   "execution_count": 14,
   "id": "51072e21-401f-4a39-8ba1-4859280303f2",
   "metadata": {},
   "outputs": [
    {
     "data": {
      "text/html": [
       "<div>\n",
       "<style scoped>\n",
       "    .dataframe tbody tr th:only-of-type {\n",
       "        vertical-align: middle;\n",
       "    }\n",
       "\n",
       "    .dataframe tbody tr th {\n",
       "        vertical-align: top;\n",
       "    }\n",
       "\n",
       "    .dataframe thead th {\n",
       "        text-align: right;\n",
       "    }\n",
       "</style>\n",
       "<table border=\"1\" class=\"dataframe\">\n",
       "  <thead>\n",
       "    <tr style=\"text-align: right;\">\n",
       "      <th></th>\n",
       "      <th>title</th>\n",
       "      <th>text</th>\n",
       "      <th>subject</th>\n",
       "      <th>date</th>\n",
       "      <th>class</th>\n",
       "    </tr>\n",
       "  </thead>\n",
       "  <tbody>\n",
       "    <tr>\n",
       "      <th>23471</th>\n",
       "      <td>Seven Iranians freed in the prisoner swap have...</td>\n",
       "      <td>21st Century Wire says This week, the historic...</td>\n",
       "      <td>Middle-east</td>\n",
       "      <td>January 20, 2016</td>\n",
       "      <td>0</td>\n",
       "    </tr>\n",
       "    <tr>\n",
       "      <th>23472</th>\n",
       "      <td>#Hashtag Hell &amp; The Fake Left</td>\n",
       "      <td>By Dady Chery and Gilbert MercierAll writers ...</td>\n",
       "      <td>Middle-east</td>\n",
       "      <td>January 19, 2016</td>\n",
       "      <td>0</td>\n",
       "    </tr>\n",
       "    <tr>\n",
       "      <th>23473</th>\n",
       "      <td>Astroturfing: Journalist Reveals Brainwashing ...</td>\n",
       "      <td>Vic Bishop Waking TimesOur reality is carefull...</td>\n",
       "      <td>Middle-east</td>\n",
       "      <td>January 19, 2016</td>\n",
       "      <td>0</td>\n",
       "    </tr>\n",
       "    <tr>\n",
       "      <th>23474</th>\n",
       "      <td>The New American Century: An Era of Fraud</td>\n",
       "      <td>Paul Craig RobertsIn the last years of the 20t...</td>\n",
       "      <td>Middle-east</td>\n",
       "      <td>January 19, 2016</td>\n",
       "      <td>0</td>\n",
       "    </tr>\n",
       "    <tr>\n",
       "      <th>23475</th>\n",
       "      <td>Hillary Clinton: ‘Israel First’ (and no peace ...</td>\n",
       "      <td>Robert Fantina CounterpunchAlthough the United...</td>\n",
       "      <td>Middle-east</td>\n",
       "      <td>January 18, 2016</td>\n",
       "      <td>0</td>\n",
       "    </tr>\n",
       "    <tr>\n",
       "      <th>23476</th>\n",
       "      <td>McPain: John McCain Furious That Iran Treated ...</td>\n",
       "      <td>21st Century Wire says As 21WIRE reported earl...</td>\n",
       "      <td>Middle-east</td>\n",
       "      <td>January 16, 2016</td>\n",
       "      <td>0</td>\n",
       "    </tr>\n",
       "    <tr>\n",
       "      <th>23477</th>\n",
       "      <td>JUSTICE? Yahoo Settles E-mail Privacy Class-ac...</td>\n",
       "      <td>21st Century Wire says It s a familiar theme. ...</td>\n",
       "      <td>Middle-east</td>\n",
       "      <td>January 16, 2016</td>\n",
       "      <td>0</td>\n",
       "    </tr>\n",
       "    <tr>\n",
       "      <th>23478</th>\n",
       "      <td>Sunnistan: US and Allied ‘Safe Zone’ Plan to T...</td>\n",
       "      <td>Patrick Henningsen  21st Century WireRemember ...</td>\n",
       "      <td>Middle-east</td>\n",
       "      <td>January 15, 2016</td>\n",
       "      <td>0</td>\n",
       "    </tr>\n",
       "    <tr>\n",
       "      <th>23479</th>\n",
       "      <td>How to Blow $700 Million: Al Jazeera America F...</td>\n",
       "      <td>21st Century Wire says Al Jazeera America will...</td>\n",
       "      <td>Middle-east</td>\n",
       "      <td>January 14, 2016</td>\n",
       "      <td>0</td>\n",
       "    </tr>\n",
       "    <tr>\n",
       "      <th>23480</th>\n",
       "      <td>10 U.S. Navy Sailors Held by Iranian Military ...</td>\n",
       "      <td>21st Century Wire says As 21WIRE predicted in ...</td>\n",
       "      <td>Middle-east</td>\n",
       "      <td>January 12, 2016</td>\n",
       "      <td>0</td>\n",
       "    </tr>\n",
       "  </tbody>\n",
       "</table>\n",
       "</div>"
      ],
      "text/plain": [
       "                                                   title  \\\n",
       "23471  Seven Iranians freed in the prisoner swap have...   \n",
       "23472                      #Hashtag Hell & The Fake Left   \n",
       "23473  Astroturfing: Journalist Reveals Brainwashing ...   \n",
       "23474          The New American Century: An Era of Fraud   \n",
       "23475  Hillary Clinton: ‘Israel First’ (and no peace ...   \n",
       "23476  McPain: John McCain Furious That Iran Treated ...   \n",
       "23477  JUSTICE? Yahoo Settles E-mail Privacy Class-ac...   \n",
       "23478  Sunnistan: US and Allied ‘Safe Zone’ Plan to T...   \n",
       "23479  How to Blow $700 Million: Al Jazeera America F...   \n",
       "23480  10 U.S. Navy Sailors Held by Iranian Military ...   \n",
       "\n",
       "                                                    text      subject  \\\n",
       "23471  21st Century Wire says This week, the historic...  Middle-east   \n",
       "23472   By Dady Chery and Gilbert MercierAll writers ...  Middle-east   \n",
       "23473  Vic Bishop Waking TimesOur reality is carefull...  Middle-east   \n",
       "23474  Paul Craig RobertsIn the last years of the 20t...  Middle-east   \n",
       "23475  Robert Fantina CounterpunchAlthough the United...  Middle-east   \n",
       "23476  21st Century Wire says As 21WIRE reported earl...  Middle-east   \n",
       "23477  21st Century Wire says It s a familiar theme. ...  Middle-east   \n",
       "23478  Patrick Henningsen  21st Century WireRemember ...  Middle-east   \n",
       "23479  21st Century Wire says Al Jazeera America will...  Middle-east   \n",
       "23480  21st Century Wire says As 21WIRE predicted in ...  Middle-east   \n",
       "\n",
       "                   date  class  \n",
       "23471  January 20, 2016      0  \n",
       "23472  January 19, 2016      0  \n",
       "23473  January 19, 2016      0  \n",
       "23474  January 19, 2016      0  \n",
       "23475  January 18, 2016      0  \n",
       "23476  January 16, 2016      0  \n",
       "23477  January 16, 2016      0  \n",
       "23478  January 15, 2016      0  \n",
       "23479  January 14, 2016      0  \n",
       "23480  January 12, 2016      0  "
      ]
     },
     "execution_count": 14,
     "metadata": {},
     "output_type": "execute_result"
    }
   ],
   "source": [
    "# looking at the 10 fake news observations that placed in a data frame\n",
    "fakeData_manual_testing.head(10)"
   ]
  },
  {
   "cell_type": "code",
   "execution_count": 15,
   "id": "8f1ee820-5ed8-4939-980c-8ac38b707634",
   "metadata": {},
   "outputs": [
    {
     "data": {
      "text/html": [
       "<div>\n",
       "<style scoped>\n",
       "    .dataframe tbody tr th:only-of-type {\n",
       "        vertical-align: middle;\n",
       "    }\n",
       "\n",
       "    .dataframe tbody tr th {\n",
       "        vertical-align: top;\n",
       "    }\n",
       "\n",
       "    .dataframe thead th {\n",
       "        text-align: right;\n",
       "    }\n",
       "</style>\n",
       "<table border=\"1\" class=\"dataframe\">\n",
       "  <thead>\n",
       "    <tr style=\"text-align: right;\">\n",
       "      <th></th>\n",
       "      <th>title</th>\n",
       "      <th>text</th>\n",
       "      <th>subject</th>\n",
       "      <th>date</th>\n",
       "      <th>class</th>\n",
       "    </tr>\n",
       "  </thead>\n",
       "  <tbody>\n",
       "    <tr>\n",
       "      <th>21407</th>\n",
       "      <td>Mata Pires, owner of embattled Brazil builder ...</td>\n",
       "      <td>SAO PAULO (Reuters) - Cesar Mata Pires, the ow...</td>\n",
       "      <td>worldnews</td>\n",
       "      <td>August 22, 2017</td>\n",
       "      <td>1</td>\n",
       "    </tr>\n",
       "    <tr>\n",
       "      <th>21408</th>\n",
       "      <td>U.S., North Korea clash at U.N. forum over nuc...</td>\n",
       "      <td>GENEVA (Reuters) - North Korea and the United ...</td>\n",
       "      <td>worldnews</td>\n",
       "      <td>August 22, 2017</td>\n",
       "      <td>1</td>\n",
       "    </tr>\n",
       "    <tr>\n",
       "      <th>21409</th>\n",
       "      <td>U.S., North Korea clash at U.N. arms forum on ...</td>\n",
       "      <td>GENEVA (Reuters) - North Korea and the United ...</td>\n",
       "      <td>worldnews</td>\n",
       "      <td>August 22, 2017</td>\n",
       "      <td>1</td>\n",
       "    </tr>\n",
       "    <tr>\n",
       "      <th>21410</th>\n",
       "      <td>Headless torso could belong to submarine journ...</td>\n",
       "      <td>COPENHAGEN (Reuters) - Danish police said on T...</td>\n",
       "      <td>worldnews</td>\n",
       "      <td>August 22, 2017</td>\n",
       "      <td>1</td>\n",
       "    </tr>\n",
       "    <tr>\n",
       "      <th>21411</th>\n",
       "      <td>North Korea shipments to Syria chemical arms a...</td>\n",
       "      <td>UNITED NATIONS (Reuters) - Two North Korean sh...</td>\n",
       "      <td>worldnews</td>\n",
       "      <td>August 21, 2017</td>\n",
       "      <td>1</td>\n",
       "    </tr>\n",
       "    <tr>\n",
       "      <th>21412</th>\n",
       "      <td>'Fully committed' NATO backs new U.S. approach...</td>\n",
       "      <td>BRUSSELS (Reuters) - NATO allies on Tuesday we...</td>\n",
       "      <td>worldnews</td>\n",
       "      <td>August 22, 2017</td>\n",
       "      <td>1</td>\n",
       "    </tr>\n",
       "    <tr>\n",
       "      <th>21413</th>\n",
       "      <td>LexisNexis withdrew two products from Chinese ...</td>\n",
       "      <td>LONDON (Reuters) - LexisNexis, a provider of l...</td>\n",
       "      <td>worldnews</td>\n",
       "      <td>August 22, 2017</td>\n",
       "      <td>1</td>\n",
       "    </tr>\n",
       "    <tr>\n",
       "      <th>21414</th>\n",
       "      <td>Minsk cultural hub becomes haven from authorities</td>\n",
       "      <td>MINSK (Reuters) - In the shadow of disused Sov...</td>\n",
       "      <td>worldnews</td>\n",
       "      <td>August 22, 2017</td>\n",
       "      <td>1</td>\n",
       "    </tr>\n",
       "    <tr>\n",
       "      <th>21415</th>\n",
       "      <td>Vatican upbeat on possibility of Pope Francis ...</td>\n",
       "      <td>MOSCOW (Reuters) - Vatican Secretary of State ...</td>\n",
       "      <td>worldnews</td>\n",
       "      <td>August 22, 2017</td>\n",
       "      <td>1</td>\n",
       "    </tr>\n",
       "    <tr>\n",
       "      <th>21416</th>\n",
       "      <td>Indonesia to buy $1.14 billion worth of Russia...</td>\n",
       "      <td>JAKARTA (Reuters) - Indonesia will buy 11 Sukh...</td>\n",
       "      <td>worldnews</td>\n",
       "      <td>August 22, 2017</td>\n",
       "      <td>1</td>\n",
       "    </tr>\n",
       "  </tbody>\n",
       "</table>\n",
       "</div>"
      ],
      "text/plain": [
       "                                                   title  \\\n",
       "21407  Mata Pires, owner of embattled Brazil builder ...   \n",
       "21408  U.S., North Korea clash at U.N. forum over nuc...   \n",
       "21409  U.S., North Korea clash at U.N. arms forum on ...   \n",
       "21410  Headless torso could belong to submarine journ...   \n",
       "21411  North Korea shipments to Syria chemical arms a...   \n",
       "21412  'Fully committed' NATO backs new U.S. approach...   \n",
       "21413  LexisNexis withdrew two products from Chinese ...   \n",
       "21414  Minsk cultural hub becomes haven from authorities   \n",
       "21415  Vatican upbeat on possibility of Pope Francis ...   \n",
       "21416  Indonesia to buy $1.14 billion worth of Russia...   \n",
       "\n",
       "                                                    text    subject  \\\n",
       "21407  SAO PAULO (Reuters) - Cesar Mata Pires, the ow...  worldnews   \n",
       "21408  GENEVA (Reuters) - North Korea and the United ...  worldnews   \n",
       "21409  GENEVA (Reuters) - North Korea and the United ...  worldnews   \n",
       "21410  COPENHAGEN (Reuters) - Danish police said on T...  worldnews   \n",
       "21411  UNITED NATIONS (Reuters) - Two North Korean sh...  worldnews   \n",
       "21412  BRUSSELS (Reuters) - NATO allies on Tuesday we...  worldnews   \n",
       "21413  LONDON (Reuters) - LexisNexis, a provider of l...  worldnews   \n",
       "21414  MINSK (Reuters) - In the shadow of disused Sov...  worldnews   \n",
       "21415  MOSCOW (Reuters) - Vatican Secretary of State ...  worldnews   \n",
       "21416  JAKARTA (Reuters) - Indonesia will buy 11 Sukh...  worldnews   \n",
       "\n",
       "                   date  class  \n",
       "21407  August 22, 2017       1  \n",
       "21408  August 22, 2017       1  \n",
       "21409  August 22, 2017       1  \n",
       "21410  August 22, 2017       1  \n",
       "21411  August 21, 2017       1  \n",
       "21412  August 22, 2017       1  \n",
       "21413  August 22, 2017       1  \n",
       "21414  August 22, 2017       1  \n",
       "21415  August 22, 2017       1  \n",
       "21416  August 22, 2017       1  "
      ]
     },
     "execution_count": 15,
     "metadata": {},
     "output_type": "execute_result"
    }
   ],
   "source": [
    "# look at the 10 observations of true news that placed in a dataframe\n",
    "trueData_manual_testing.head(10)"
   ]
  },
  {
   "cell_type": "code",
   "execution_count": 16,
   "id": "27b37073-9537-45dc-90c1-75211f31d142",
   "metadata": {},
   "outputs": [
    {
     "data": {
      "text/html": [
       "<div>\n",
       "<style scoped>\n",
       "    .dataframe tbody tr th:only-of-type {\n",
       "        vertical-align: middle;\n",
       "    }\n",
       "\n",
       "    .dataframe tbody tr th {\n",
       "        vertical-align: top;\n",
       "    }\n",
       "\n",
       "    .dataframe thead th {\n",
       "        text-align: right;\n",
       "    }\n",
       "</style>\n",
       "<table border=\"1\" class=\"dataframe\">\n",
       "  <thead>\n",
       "    <tr style=\"text-align: right;\">\n",
       "      <th></th>\n",
       "      <th>title</th>\n",
       "      <th>text</th>\n",
       "      <th>subject</th>\n",
       "      <th>date</th>\n",
       "      <th>class</th>\n",
       "    </tr>\n",
       "  </thead>\n",
       "  <tbody>\n",
       "    <tr>\n",
       "      <th>0</th>\n",
       "      <td>Donald Trump Sends Out Embarrassing New Year’...</td>\n",
       "      <td>Donald Trump just couldn t wish all Americans ...</td>\n",
       "      <td>News</td>\n",
       "      <td>December 31, 2017</td>\n",
       "      <td>0</td>\n",
       "    </tr>\n",
       "    <tr>\n",
       "      <th>1</th>\n",
       "      <td>Drunk Bragging Trump Staffer Started Russian ...</td>\n",
       "      <td>House Intelligence Committee Chairman Devin Nu...</td>\n",
       "      <td>News</td>\n",
       "      <td>December 31, 2017</td>\n",
       "      <td>0</td>\n",
       "    </tr>\n",
       "    <tr>\n",
       "      <th>2</th>\n",
       "      <td>Sheriff David Clarke Becomes An Internet Joke...</td>\n",
       "      <td>On Friday, it was revealed that former Milwauk...</td>\n",
       "      <td>News</td>\n",
       "      <td>December 30, 2017</td>\n",
       "      <td>0</td>\n",
       "    </tr>\n",
       "    <tr>\n",
       "      <th>3</th>\n",
       "      <td>Trump Is So Obsessed He Even Has Obama’s Name...</td>\n",
       "      <td>On Christmas day, Donald Trump announced that ...</td>\n",
       "      <td>News</td>\n",
       "      <td>December 29, 2017</td>\n",
       "      <td>0</td>\n",
       "    </tr>\n",
       "    <tr>\n",
       "      <th>4</th>\n",
       "      <td>Pope Francis Just Called Out Donald Trump Dur...</td>\n",
       "      <td>Pope Francis used his annual Christmas Day mes...</td>\n",
       "      <td>News</td>\n",
       "      <td>December 25, 2017</td>\n",
       "      <td>0</td>\n",
       "    </tr>\n",
       "    <tr>\n",
       "      <th>5</th>\n",
       "      <td>Racist Alabama Cops Brutalize Black Boy While...</td>\n",
       "      <td>The number of cases of cops brutalizing and ki...</td>\n",
       "      <td>News</td>\n",
       "      <td>December 25, 2017</td>\n",
       "      <td>0</td>\n",
       "    </tr>\n",
       "    <tr>\n",
       "      <th>6</th>\n",
       "      <td>Fresh Off The Golf Course, Trump Lashes Out A...</td>\n",
       "      <td>Donald Trump spent a good portion of his day a...</td>\n",
       "      <td>News</td>\n",
       "      <td>December 23, 2017</td>\n",
       "      <td>0</td>\n",
       "    </tr>\n",
       "    <tr>\n",
       "      <th>7</th>\n",
       "      <td>Trump Said Some INSANELY Racist Stuff Inside ...</td>\n",
       "      <td>In the wake of yet another court decision that...</td>\n",
       "      <td>News</td>\n",
       "      <td>December 23, 2017</td>\n",
       "      <td>0</td>\n",
       "    </tr>\n",
       "    <tr>\n",
       "      <th>8</th>\n",
       "      <td>Former CIA Director Slams Trump Over UN Bully...</td>\n",
       "      <td>Many people have raised the alarm regarding th...</td>\n",
       "      <td>News</td>\n",
       "      <td>December 22, 2017</td>\n",
       "      <td>0</td>\n",
       "    </tr>\n",
       "    <tr>\n",
       "      <th>9</th>\n",
       "      <td>WATCH: Brand-New Pro-Trump Ad Features So Muc...</td>\n",
       "      <td>Just when you might have thought we d get a br...</td>\n",
       "      <td>News</td>\n",
       "      <td>December 21, 2017</td>\n",
       "      <td>0</td>\n",
       "    </tr>\n",
       "  </tbody>\n",
       "</table>\n",
       "</div>"
      ],
      "text/plain": [
       "                                               title  \\\n",
       "0   Donald Trump Sends Out Embarrassing New Year’...   \n",
       "1   Drunk Bragging Trump Staffer Started Russian ...   \n",
       "2   Sheriff David Clarke Becomes An Internet Joke...   \n",
       "3   Trump Is So Obsessed He Even Has Obama’s Name...   \n",
       "4   Pope Francis Just Called Out Donald Trump Dur...   \n",
       "5   Racist Alabama Cops Brutalize Black Boy While...   \n",
       "6   Fresh Off The Golf Course, Trump Lashes Out A...   \n",
       "7   Trump Said Some INSANELY Racist Stuff Inside ...   \n",
       "8   Former CIA Director Slams Trump Over UN Bully...   \n",
       "9   WATCH: Brand-New Pro-Trump Ad Features So Muc...   \n",
       "\n",
       "                                                text subject  \\\n",
       "0  Donald Trump just couldn t wish all Americans ...    News   \n",
       "1  House Intelligence Committee Chairman Devin Nu...    News   \n",
       "2  On Friday, it was revealed that former Milwauk...    News   \n",
       "3  On Christmas day, Donald Trump announced that ...    News   \n",
       "4  Pope Francis used his annual Christmas Day mes...    News   \n",
       "5  The number of cases of cops brutalizing and ki...    News   \n",
       "6  Donald Trump spent a good portion of his day a...    News   \n",
       "7  In the wake of yet another court decision that...    News   \n",
       "8  Many people have raised the alarm regarding th...    News   \n",
       "9  Just when you might have thought we d get a br...    News   \n",
       "\n",
       "                date  class  \n",
       "0  December 31, 2017      0  \n",
       "1  December 31, 2017      0  \n",
       "2  December 30, 2017      0  \n",
       "3  December 29, 2017      0  \n",
       "4  December 25, 2017      0  \n",
       "5  December 25, 2017      0  \n",
       "6  December 23, 2017      0  \n",
       "7  December 23, 2017      0  \n",
       "8  December 22, 2017      0  \n",
       "9  December 21, 2017      0  "
      ]
     },
     "execution_count": 16,
     "metadata": {},
     "output_type": "execute_result"
    }
   ],
   "source": [
    "# combine the 2 data frames containing both fake and true news \n",
    "# combing the two frames on the rows axis\n",
    "mergeData = pd.concat([fakeData,trueData], axis = 0)\n",
    "mergeData.head(10)"
   ]
  },
  {
   "cell_type": "code",
   "execution_count": 17,
   "id": "170dd579-764d-4c39-ac47-e862865f4d8b",
   "metadata": {},
   "outputs": [
    {
     "data": {
      "text/plain": [
       "Index(['title', 'text', 'subject', 'date', 'class'], dtype='object')"
      ]
     },
     "execution_count": 17,
     "metadata": {},
     "output_type": "execute_result"
    }
   ],
   "source": [
    "# checking the columns of the combined data frames\n",
    "mergeData.columns"
   ]
  },
  {
   "cell_type": "code",
   "execution_count": 18,
   "id": "bacb8775-7aef-46b4-a441-3535d343a44d",
   "metadata": {},
   "outputs": [],
   "source": [
    "# dropping the columns title, subject, date and putting into a new data frame\n",
    "# only keeping the text and class\n",
    "script = mergeData.drop(['title','subject','date'], axis = 1)"
   ]
  },
  {
   "cell_type": "code",
   "execution_count": 19,
   "id": "54cf756e-4300-4dd7-bca0-b8f287deaeb8",
   "metadata": {},
   "outputs": [
    {
     "data": {
      "text/plain": [
       "text     0\n",
       "class    0\n",
       "dtype: int64"
      ]
     },
     "execution_count": 19,
     "metadata": {},
     "output_type": "execute_result"
    }
   ],
   "source": [
    "# check for missing values\n",
    "script.isna().sum()"
   ]
  },
  {
   "cell_type": "code",
   "execution_count": 20,
   "id": "8476ec23-42e5-4012-9782-b8b0c045d60b",
   "metadata": {},
   "outputs": [
    {
     "data": {
      "text/html": [
       "<div>\n",
       "<style scoped>\n",
       "    .dataframe tbody tr th:only-of-type {\n",
       "        vertical-align: middle;\n",
       "    }\n",
       "\n",
       "    .dataframe tbody tr th {\n",
       "        vertical-align: top;\n",
       "    }\n",
       "\n",
       "    .dataframe thead th {\n",
       "        text-align: right;\n",
       "    }\n",
       "</style>\n",
       "<table border=\"1\" class=\"dataframe\">\n",
       "  <thead>\n",
       "    <tr style=\"text-align: right;\">\n",
       "      <th></th>\n",
       "      <th>text</th>\n",
       "      <th>class</th>\n",
       "    </tr>\n",
       "  </thead>\n",
       "  <tbody>\n",
       "    <tr>\n",
       "      <th>12479</th>\n",
       "      <td>SOFIA (Reuters) - Bulgaria has frozen assets a...</td>\n",
       "      <td>1</td>\n",
       "    </tr>\n",
       "    <tr>\n",
       "      <th>5265</th>\n",
       "      <td>In one of the best takedowns of Donald Trump y...</td>\n",
       "      <td>0</td>\n",
       "    </tr>\n",
       "    <tr>\n",
       "      <th>12897</th>\n",
       "      <td>ANKARA (Reuters) - Turkish President Tayyip Er...</td>\n",
       "      <td>1</td>\n",
       "    </tr>\n",
       "    <tr>\n",
       "      <th>14696</th>\n",
       "      <td>NEW DELHI (Reuters) - Nearly nine out of 10 In...</td>\n",
       "      <td>1</td>\n",
       "    </tr>\n",
       "    <tr>\n",
       "      <th>6127</th>\n",
       "      <td>This week temperatures in the town of Phalodi,...</td>\n",
       "      <td>0</td>\n",
       "    </tr>\n",
       "  </tbody>\n",
       "</table>\n",
       "</div>"
      ],
      "text/plain": [
       "                                                    text  class\n",
       "12479  SOFIA (Reuters) - Bulgaria has frozen assets a...      1\n",
       "5265   In one of the best takedowns of Donald Trump y...      0\n",
       "12897  ANKARA (Reuters) - Turkish President Tayyip Er...      1\n",
       "14696  NEW DELHI (Reuters) - Nearly nine out of 10 In...      1\n",
       "6127   This week temperatures in the town of Phalodi,...      0"
      ]
     },
     "execution_count": 20,
     "metadata": {},
     "output_type": "execute_result"
    }
   ],
   "source": [
    "# shuffle our data frame\n",
    "script = script.sample(frac = 1)\n",
    "script.head()"
   ]
  },
  {
   "cell_type": "code",
   "execution_count": 21,
   "id": "ad9192d5-21b4-4b7b-943e-1c2de67164b1",
   "metadata": {},
   "outputs": [],
   "source": [
    "# reset the index\n",
    "script.reset_index(inplace = True)\n",
    "\n",
    "# drop the old index\n",
    "script.drop(['index'], axis = 1, inplace = True)"
   ]
  },
  {
   "cell_type": "code",
   "execution_count": 22,
   "id": "0a0579e9-cb3c-4d2d-bf3a-75803f089712",
   "metadata": {},
   "outputs": [
    {
     "data": {
      "text/plain": [
       "Index(['text', 'class'], dtype='object')"
      ]
     },
     "execution_count": 22,
     "metadata": {},
     "output_type": "execute_result"
    }
   ],
   "source": [
    "#recall again column\n",
    "script.columns"
   ]
  },
  {
   "cell_type": "code",
   "execution_count": 23,
   "id": "b5cbbe8a-0279-4499-9edd-3e20edd374c3",
   "metadata": {},
   "outputs": [
    {
     "data": {
      "text/html": [
       "<div>\n",
       "<style scoped>\n",
       "    .dataframe tbody tr th:only-of-type {\n",
       "        vertical-align: middle;\n",
       "    }\n",
       "\n",
       "    .dataframe tbody tr th {\n",
       "        vertical-align: top;\n",
       "    }\n",
       "\n",
       "    .dataframe thead th {\n",
       "        text-align: right;\n",
       "    }\n",
       "</style>\n",
       "<table border=\"1\" class=\"dataframe\">\n",
       "  <thead>\n",
       "    <tr style=\"text-align: right;\">\n",
       "      <th></th>\n",
       "      <th>text</th>\n",
       "      <th>class</th>\n",
       "    </tr>\n",
       "  </thead>\n",
       "  <tbody>\n",
       "    <tr>\n",
       "      <th>0</th>\n",
       "      <td>SOFIA (Reuters) - Bulgaria has frozen assets a...</td>\n",
       "      <td>1</td>\n",
       "    </tr>\n",
       "    <tr>\n",
       "      <th>1</th>\n",
       "      <td>In one of the best takedowns of Donald Trump y...</td>\n",
       "      <td>0</td>\n",
       "    </tr>\n",
       "    <tr>\n",
       "      <th>2</th>\n",
       "      <td>ANKARA (Reuters) - Turkish President Tayyip Er...</td>\n",
       "      <td>1</td>\n",
       "    </tr>\n",
       "    <tr>\n",
       "      <th>3</th>\n",
       "      <td>NEW DELHI (Reuters) - Nearly nine out of 10 In...</td>\n",
       "      <td>1</td>\n",
       "    </tr>\n",
       "    <tr>\n",
       "      <th>4</th>\n",
       "      <td>This week temperatures in the town of Phalodi,...</td>\n",
       "      <td>0</td>\n",
       "    </tr>\n",
       "  </tbody>\n",
       "</table>\n",
       "</div>"
      ],
      "text/plain": [
       "                                                text  class\n",
       "0  SOFIA (Reuters) - Bulgaria has frozen assets a...      1\n",
       "1  In one of the best takedowns of Donald Trump y...      0\n",
       "2  ANKARA (Reuters) - Turkish President Tayyip Er...      1\n",
       "3  NEW DELHI (Reuters) - Nearly nine out of 10 In...      1\n",
       "4  This week temperatures in the town of Phalodi,...      0"
      ]
     },
     "execution_count": 23,
     "metadata": {},
     "output_type": "execute_result"
    }
   ],
   "source": [
    "script.head()"
   ]
  },
  {
   "cell_type": "code",
   "execution_count": 24,
   "id": "22e0e525-fd4d-47d9-b1fe-918fe7510263",
   "metadata": {},
   "outputs": [
    {
     "data": {
      "text/plain": [
       "'In one of the best takedowns of Donald Trump yet, John McCain s granddaughter did NOT hold back as she explained why she is voting for Hillary Clinton in November.Caroline McCain has been against Donald Trump since last July when he mocked her grandfather for getting captured by the enemy during the Vietnam War.  I like people who weren t captured,  Trump said about John McCain, who was tortured to the point where he is incapable of lifting his arms above his shoulders.John McCain is a war hero and Donald Trump insulted him and every other American veteran who has ever been a POW.Fast-forward a year later and Trump is now the Republican nominee, and Caroline McCain has made her decision to go from being #NeverTrump to declaring her support for Hillary Clinton.In an amazing post on Medium, Caroline McCain took Donald Trump to the woodshed.Following a line of other right-wing wacko birds, Trump insulted a man I esteem and love, a man who has risked his life in service of his country. He insulted my grandfather and attacked the very qualities loyalty, bravery and selflessness that he and countless other POWs embody. He mocked the sacrifice many have given and the anguish families have endured when their heroes have suffered alone miles away.My grandfather responded with grace and forgiveness as only a man who was held in captivity for years can. But I ve been nursing a grudge ever since. Trump s statement, in my view, is unforgivable, and speaks to the kind of man he is: a coward who has never faced danger in his life, an insecure brat who shirked duty for comfort, and a man who is wholly unfit to serve as commander-in-chief.Indeed, while John McCain was suffering in Vietnam for his country, Donald Trump dodged the draft and never saw a day of military service in his entire life.And Caroline McCain wasn t done ripping him a new one.He lacks the temperament and the wisdom to navigate our ever-increasingly dangerous world. Policy decisions aside, being President of the United States requires a steady hand and never more so than now. A competent commander-in-chief must respond to threats to the Republic, but Trump only responds to threats to his ego.She goes on to trace her journey to becoming a Hillary supporter, and one of the moments that helped her make her decision was when President Obama spoke at the DNC Convention earlier this week.He could have pointed blame at the GOP for enabling Trump s rise. He could have taken party leadership to task for falling in line behind Trump. But he didn t. He instead presented the election as a choice between democracy and demagogue. He gave Republicans the option to abandon Trump rather than blaming them for his rise.There are so many things I disagree with President Obama on, but this is a moment I will always respect him for. And maybe this was the moment I needed to fully own the choice I would have to make in November.McCain then ripped the Republican Party for betraying her and others by supporting a racist homophobic misogynist who only cares about himself.The party chose for its king a demagogue who wears a wig instead of a crown, and a celebrity in pursuit of fame and fortune rather than service and sacrifice Loyalty to party can never trump loyalty to country. And loyalty to party means nothing when the party has been poisoned.And because the Republican Party is poisoned, Caroline McCain wants Trump to lose by a landslide in November to force the GOP to change, which is why she is voting for Hillary.I wanted a different candidate. I wanted a New American Century. I wanted an election with good ideas and good discourse. I wanted to win. But now I want my party to change. I want fresh leaders, of good character, in both parties. And I want Donald Trump to be humiliated in November and driven far from the political arena for the rest of his life.So I m not a Democrat at least not yet. But this year, I m With Her.The Republican Party should be very afraid right now. Because if John McCain s own conservative granddaughter is willing to vote for Hillary to defeat Trump, surely there are many other Republicans out there who are willing to do the same.Featured image via screenshot'"
      ]
     },
     "execution_count": 24,
     "metadata": {},
     "output_type": "execute_result"
    }
   ],
   "source": [
    "# first observation text\n",
    "script['text'][1]"
   ]
  },
  {
   "cell_type": "code",
   "execution_count": 25,
   "id": "2ff0e8ba-89df-4e46-95ca-ef844eb4966c",
   "metadata": {},
   "outputs": [
    {
     "data": {
      "text/plain": [
       "(44878, 2)"
      ]
     },
     "execution_count": 25,
     "metadata": {},
     "output_type": "execute_result"
    }
   ],
   "source": [
    "script.shape"
   ]
  },
  {
   "cell_type": "code",
   "execution_count": 26,
   "id": "154b65c4-9962-4b13-89d6-cc6fa1a96836",
   "metadata": {},
   "outputs": [
    {
     "data": {
      "text/plain": [
       "class\n",
       "0    23471\n",
       "1    21407\n",
       "Name: count, dtype: int64"
      ]
     },
     "execution_count": 26,
     "metadata": {},
     "output_type": "execute_result"
    }
   ],
   "source": [
    "#number of real and fake news\n",
    "script['class'].value_counts()"
   ]
  },
  {
   "cell_type": "code",
   "execution_count": 27,
   "id": "7f653a92-a177-4beb-bf8f-e1068a2108b0",
   "metadata": {},
   "outputs": [
    {
     "data": {
      "image/png": "[encoded data removed]",
      "text/plain": [
       "<Figure size 640x480 with 1 Axes>"
      ]
     },
     "metadata": {},
     "output_type": "display_data"
    }
   ],
   "source": [
    "# Example list of colors\n",
    "colors = ['red', 'green']  # Assign 'green' for true(1), 'red' for fake(0)\n",
    "\n",
    "script['class'].value_counts().plot.bar(color=colors)\n",
    "\n",
    "plt.xlabel('Class')\n",
    "plt.ylabel('Count')\n",
    "plt.title('True and Fake News Samples')\n",
    "plt.show()"
   ]
  },
  {
   "cell_type": "markdown",
   "id": "4131aef4-4f41-4a2f-bf3e-de95269ae7c0",
   "metadata": {},
   "source": [
    "0 = fake and 1 = Real"
   ]
  },
  {
   "cell_type": "markdown",
   "id": "22b42de0-d6d5-428c-911d-d561e911541c",
   "metadata": {},
   "source": [
    "# Preprocess Text"
   ]
  },
  {
   "cell_type": "code",
   "execution_count": 28,
   "id": "e3ea00e3-e27f-4198-bd2c-65ccb78e787f",
   "metadata": {},
   "outputs": [
    {
     "name": "stderr",
     "output_type": "stream",
     "text": [
      "[nltk_data] Downloading package stopwords to\n",
      "[nltk_data]     C:\\Users\\loonl\\AppData\\Roaming\\nltk_data...\n",
      "[nltk_data]   Package stopwords is already up-to-date!\n"
     ]
    }
   ],
   "source": [
    "# Creating a function to convert the text in lowercase, remove the extra space, special chr., ulr and links.\n",
    "\n",
    "import re\n",
    "import string\n",
    "from nltk.corpus import stopwords\n",
    "\n",
    "nltk.download('stopwords')\n",
    "stop_words = set(stopwords.words('english'))\n",
    "\n",
    "def processWord(script):\n",
    "    # Lower case\n",
    "    script = script.lower()\n",
    "    \n",
    "    # remove anything with and within brackets\n",
    "    script = re.sub(r'\\[.*?\\]', '', script)\n",
    "    \n",
    "    # removes any character not a letter, digit, or underscore\n",
    "    script = re.sub(r'\\W', ' ', script)\n",
    "    \n",
    "    # removes any Links starting with https\n",
    "    script = re.sub(r'https?://\\S+|www\\.\\S+', '', script)\n",
    "    \n",
    "    # removes anything within and within <>\n",
    "    script = re.sub(r'<.*?>+', '', script)\n",
    "    \n",
    "    # removes any string with % in it\n",
    "    script = re.sub(r'[%s]' % re.escape(string.punctuation), '', script)\n",
    "    \n",
    "    # remove next lines\n",
    "    script = re.sub(r'\\n','', script)\n",
    "    \n",
    "    # removes any string that contains at least a digit with zero or more characters\n",
    "    script = re.sub(r'\\w*\\d\\w*', '', script)\n",
    "    \n",
    "    # Remove stopwords (split the script -> filter the stop word -> join the word)\n",
    "    script = ' '.join([word for word in script.split() if word not in stop_words])\n",
    "    \n",
    "    return script\n"
   ]
  },
  {
   "cell_type": "code",
   "execution_count": 29,
   "id": "37d9cc6a-124f-4826-9ee3-51e09a0c91f1",
   "metadata": {},
   "outputs": [],
   "source": [
    "# apply the function to the text column\n",
    "script['text'] = script['text'].apply(processWord)"
   ]
  },
  {
   "cell_type": "code",
   "execution_count": 30,
   "id": "d4ee6f62-eb9e-48b4-a3b3-dfe947ce8b69",
   "metadata": {},
   "outputs": [
    {
     "data": {
      "text/plain": [
       "(44878, 2)"
      ]
     },
     "execution_count": 30,
     "metadata": {},
     "output_type": "execute_result"
    }
   ],
   "source": [
    "script.shape"
   ]
  },
  {
   "cell_type": "code",
   "execution_count": 31,
   "id": "60c3bb7a-a95f-4c2e-b409-f52e593a1447",
   "metadata": {},
   "outputs": [
    {
     "data": {
      "text/plain": [
       "'ankara reuters turkish president tayyip erdogan said thursday united states decision recognize jerusalem israel capital completely disregarded united nations resolution regarding status city erdogan also said decision would throw region ring fire speaking supporters airport ankara departing greece official visit'"
      ]
     },
     "execution_count": 31,
     "metadata": {},
     "output_type": "execute_result"
    }
   ],
   "source": [
    "# observing the updated text\n",
    "script['text'][2]"
   ]
  },
  {
   "cell_type": "code",
   "execution_count": 32,
   "id": "168f0fe3-2e4a-4a48-8068-93e6db8072f8",
   "metadata": {},
   "outputs": [],
   "source": [
    "# our predictor variable\n",
    "X = script['text']\n",
    "\n",
    "# our target variable\n",
    "y = script['class']"
   ]
  },
  {
   "cell_type": "code",
   "execution_count": 33,
   "id": "103706d7-3153-467f-af81-d13330370eaf",
   "metadata": {},
   "outputs": [],
   "source": [
    "# train test split the data \n",
    "# 60% - Training , 40% - test\n",
    "X_train, X_test, y_train, y_test = train_test_split(X,y, test_size = 0.4, random_state = 42)"
   ]
  },
  {
   "cell_type": "markdown",
   "id": "a898ec51-a8f9-46c8-bb44-c4bb719127b3",
   "metadata": {},
   "source": [
    "# Data Representation"
   ]
  },
  {
   "cell_type": "code",
   "execution_count": 35,
   "id": "ce420b43-35e8-424d-992f-bc0d7970ef74",
   "metadata": {},
   "outputs": [],
   "source": [
    "from sklearn.feature_extraction.text import TfidfVectorizer\n",
    "from sklearn.model_selection import cross_val_score\n",
    "\n",
    "# TF (Term Frequency): How frequently a word occurs in a document.\n",
    "# IDF (Inverse Document Frequency): Measures how important a word is in relation to the entire corpus of documents.\n",
    "# Words that appear in many documents are considered less informative.\n",
    "\n",
    "# instantiate TfidfVectorizer\n",
    "# max_df = that words appearing in more than 70% of the documents should be ignored.\n",
    "vc = TfidfVectorizer(max_df=0.7)\n",
    "\n",
    "# fit transform our document (X_train)\n",
    "tfidf_train = vc.fit_transform(X_train) \n",
    "\n",
    "# transform our X_test \n",
    "# note we dont have to fit the testing set\n",
    "tfidf_test = vc.transform(X_test)"
   ]
  },
  {
   "cell_type": "code",
   "execution_count": 36,
   "id": "ffb2b34f-e9d3-4cf4-b7db-6257e3bd4838",
   "metadata": {},
   "outputs": [
    {
     "name": "stdout",
     "output_type": "stream",
     "text": [
      "(26926, 87648)\n",
      "(17952, 87648)\n"
     ]
    }
   ],
   "source": [
    "print(tfidf_train.shape)  # Check the size of the training set\n",
    "print(tfidf_test.shape)   # Check the size of the test set"
   ]
  },
  {
   "cell_type": "code",
   "execution_count": 37,
   "id": "8f8eab4c-2c5e-462b-b56e-01e953b89d7c",
   "metadata": {},
   "outputs": [
    {
     "ename": "MemoryError",
     "evalue": "Unable to allocate 17.6 GiB for an array with shape (26926, 87648) and data type float64",
     "output_type": "error",
     "traceback": [
      "\u001b[1;31m---------------------------------------------------------------------------\u001b[0m",
      "\u001b[1;31mMemoryError\u001b[0m                               Traceback (most recent call last)",
      "Cell \u001b[1;32mIn[37], line 2\u001b[0m\n\u001b[0;32m      1\u001b[0m \u001b[38;5;66;03m# Convert the sparse matrix to a dense array\u001b[39;00m\n\u001b[1;32m----> 2\u001b[0m tfidf_array \u001b[38;5;241m=\u001b[39m tfidf_train\u001b[38;5;241m.\u001b[39mtoarray()\n\u001b[0;32m      4\u001b[0m \u001b[38;5;66;03m# Print the first row (the first document's TF-IDF vector)\u001b[39;00m\n\u001b[0;32m      5\u001b[0m \u001b[38;5;28mprint\u001b[39m(tfidf_array)\n",
      "File \u001b[1;32mD:\\anaconda3\\Lib\\site-packages\\scipy\\sparse\\_compressed.py:1106\u001b[0m, in \u001b[0;36m_cs_matrix.toarray\u001b[1;34m(self, order, out)\u001b[0m\n\u001b[0;32m   1104\u001b[0m \u001b[38;5;28;01mif\u001b[39;00m out \u001b[38;5;129;01mis\u001b[39;00m \u001b[38;5;28;01mNone\u001b[39;00m \u001b[38;5;129;01mand\u001b[39;00m order \u001b[38;5;129;01mis\u001b[39;00m \u001b[38;5;28;01mNone\u001b[39;00m:\n\u001b[0;32m   1105\u001b[0m     order \u001b[38;5;241m=\u001b[39m \u001b[38;5;28mself\u001b[39m\u001b[38;5;241m.\u001b[39m_swap(\u001b[38;5;124m'\u001b[39m\u001b[38;5;124mcf\u001b[39m\u001b[38;5;124m'\u001b[39m)[\u001b[38;5;241m0\u001b[39m]\n\u001b[1;32m-> 1106\u001b[0m out \u001b[38;5;241m=\u001b[39m \u001b[38;5;28mself\u001b[39m\u001b[38;5;241m.\u001b[39m_process_toarray_args(order, out)\n\u001b[0;32m   1107\u001b[0m \u001b[38;5;28;01mif\u001b[39;00m \u001b[38;5;129;01mnot\u001b[39;00m (out\u001b[38;5;241m.\u001b[39mflags\u001b[38;5;241m.\u001b[39mc_contiguous \u001b[38;5;129;01mor\u001b[39;00m out\u001b[38;5;241m.\u001b[39mflags\u001b[38;5;241m.\u001b[39mf_contiguous):\n\u001b[0;32m   1108\u001b[0m     \u001b[38;5;28;01mraise\u001b[39;00m \u001b[38;5;167;01mValueError\u001b[39;00m(\u001b[38;5;124m'\u001b[39m\u001b[38;5;124mOutput array must be C or F contiguous\u001b[39m\u001b[38;5;124m'\u001b[39m)\n",
      "File \u001b[1;32mD:\\anaconda3\\Lib\\site-packages\\scipy\\sparse\\_base.py:1327\u001b[0m, in \u001b[0;36m_spbase._process_toarray_args\u001b[1;34m(self, order, out)\u001b[0m\n\u001b[0;32m   1325\u001b[0m     \u001b[38;5;28;01mreturn\u001b[39;00m out\n\u001b[0;32m   1326\u001b[0m \u001b[38;5;28;01melse\u001b[39;00m:\n\u001b[1;32m-> 1327\u001b[0m     \u001b[38;5;28;01mreturn\u001b[39;00m np\u001b[38;5;241m.\u001b[39mzeros(\u001b[38;5;28mself\u001b[39m\u001b[38;5;241m.\u001b[39mshape, dtype\u001b[38;5;241m=\u001b[39m\u001b[38;5;28mself\u001b[39m\u001b[38;5;241m.\u001b[39mdtype, order\u001b[38;5;241m=\u001b[39morder)\n",
      "\u001b[1;31mMemoryError\u001b[0m: Unable to allocate 17.6 GiB for an array with shape (26926, 87648) and data type float64"
     ]
    }
   ],
   "source": [
    "# Convert the sparse matrix to a dense array\n",
    "tfidf_array = tfidf_train.toarray()\n",
    "\n",
    "# Print the first row (the first document's TF-IDF vector)\n",
    "print(tfidf_array)"
   ]
  },
  {
   "cell_type": "markdown",
   "id": "667eac8b-e47a-4887-96e4-c44acea8c666",
   "metadata": {},
   "source": [
    "# Logistic Regression"
   ]
  },
  {
   "cell_type": "code",
   "execution_count": 38,
   "id": "41a84c59-e455-45f8-bbdc-c3081060065b",
   "metadata": {},
   "outputs": [
    {
     "name": "stdout",
     "output_type": "stream",
     "text": [
      "[1 1 1 ... 0 1 0]\n"
     ]
    }
   ],
   "source": [
    "# import Logistic Regression\n",
    "from sklearn.linear_model import LogisticRegression\n",
    "\n",
    "# Instantiate Logistic Regression Model \n",
    "lr = LogisticRegression(random_state=0)\n",
    "\n",
    "# fit our model with the outputed tfidf training set\n",
    "lr.fit(tfidf_train, y_train)\n",
    "\n",
    "# predict the class on the tfidf testing set\n",
    "pred_lr = lr.predict(tfidf_test)\n",
    "\n",
    "# print the predictions\n",
    "print(pred_lr) "
   ]
  },
  {
   "cell_type": "code",
   "execution_count": 39,
   "id": "9e559365-84a6-4fbb-bf93-9040d6716ffd",
   "metadata": {},
   "outputs": [
    {
     "name": "stdout",
     "output_type": "stream",
     "text": [
      "Accuracy of Logistic Regression model: 0.9841243315508021\n"
     ]
    }
   ],
   "source": [
    "# check the accuracy score on the testing set\n",
    "import sklearn.metrics\n",
    "accuracy1 = lr.score(tfidf_test, y_test)\n",
    "print(\"Accuracy of Logistic Regression model:\", accuracy1)"
   ]
  },
  {
   "cell_type": "code",
   "execution_count": 40,
   "id": "20211770-6699-4320-b105-87980a3bda46",
   "metadata": {},
   "outputs": [
    {
     "name": "stdout",
     "output_type": "stream",
     "text": [
      "              precision    recall  f1-score   support\n",
      "\n",
      "           0       0.98      0.99      0.98      9328\n",
      "           1       0.98      0.98      0.98      8624\n",
      "\n",
      "    accuracy                           0.98     17952\n",
      "   macro avg       0.98      0.98      0.98     17952\n",
      "weighted avg       0.98      0.98      0.98     17952\n",
      "\n"
     ]
    }
   ],
   "source": [
    "# classification report \n",
    "from sklearn.metrics import classification_report\n",
    "print(classification_report(pred_lr,y_test))"
   ]
  },
  {
   "cell_type": "code",
   "execution_count": 41,
   "id": "84235ce2-aade-483e-89ce-532ae9ac8942",
   "metadata": {},
   "outputs": [
    {
     "data": {
      "text/plain": [
       "array([[9199,  156],\n",
       "       [ 129, 8468]], dtype=int64)"
      ]
     },
     "execution_count": 41,
     "metadata": {},
     "output_type": "execute_result"
    }
   ],
   "source": [
    "from sklearn.metrics import confusion_matrix  \n",
    "cm1 = confusion_matrix(y_test,pred_lr)  \n",
    "cm1"
   ]
  },
  {
   "cell_type": "code",
   "execution_count": 42,
   "id": "64dc79f5-9bb3-4a66-b51e-c4ecc1caa2db",
   "metadata": {},
   "outputs": [
    {
     "name": "stdout",
     "output_type": "stream",
     "text": [
      "Accuracy: 0.984\n",
      "Precision: 0.982\n",
      "Recall: 0.985\n",
      "F1 Score: 0.983\n"
     ]
    },
    {
     "data": {
      "image/png": "[encoded data removed]",
      "text/plain": [
       "<Figure size 640x480 with 2 Axes>"
      ]
     },
     "metadata": {},
     "output_type": "display_data"
    }
   ],
   "source": [
    "import seaborn as sns\n",
    "\n",
    "cm = confusion_matrix(y_test, pred_lr)  \n",
    "sns.heatmap(cm, xticklabels=['predicted_fake', 'predicted_true'], \n",
    "                yticklabels=['actual_fake', 'actual_true'],\n",
    "annot=True, fmt='d', annot_kws={'fontsize':20}, cmap=\"YlGnBu\");\n",
    "\n",
    "plt.ylabel('Actual',fontsize=13)\n",
    "plt.xlabel('Prediction',fontsize=13)\n",
    "plt.title('Confusion Matrix - Logistic Regression',fontsize=17) \n",
    "\n",
    "\n",
    "true_neg, false_pos = cm[0]\n",
    "false_neg, true_pos = cm[1]\n",
    "\n",
    "# accuracy -> measures the proportion of correct predictions (both true positives and true negatives) out of the total number of predictions.\n",
    "accuracy = round((true_pos + true_neg) / (true_pos + true_neg + false_pos + false_neg),3)\n",
    "\n",
    "# Precision -> measures the proportion of true positives out of all the predicted positives \n",
    "# (i.e., it checks how many of the predicted positive instances were actually positive).\n",
    "precision = round((true_pos) / (true_pos + false_pos),3)\n",
    "\n",
    "# Recall measures the proportion of actual positives that were correctly predicted by the model \n",
    "# (i.e., how many positive instances were correctly identified).\n",
    "recall = round((true_pos) / (true_pos + false_neg),3)\n",
    "\n",
    "# F1 is the harmonic mean of precision and recall, providing a single measure of a model’s performance when you want to balance precision and recall.\n",
    "f1 = round(2 * (precision * recall) / (precision + recall),3)\n",
    "\n",
    "print('Accuracy: {}'.format(accuracy))\n",
    "print('Precision: {}'.format(precision))\n",
    "print('Recall: {}'.format(recall))\n",
    "print('F1 Score: {}'.format(f1))"
   ]
  },
  {
   "cell_type": "markdown",
   "id": "296aa438-4596-47b3-afd3-f63e9761e2b9",
   "metadata": {},
   "source": [
    "# Naive Bayes"
   ]
  },
  {
   "cell_type": "code",
   "execution_count": 43,
   "id": "2b34db65-28d4-4192-9f4c-35c886b5bb38",
   "metadata": {},
   "outputs": [
    {
     "name": "stdout",
     "output_type": "stream",
     "text": [
      "[1 1 1 ... 0 1 0]\n"
     ]
    }
   ],
   "source": [
    "# Use a Naive Bayes model\n",
    "from sklearn.naive_bayes import MultinomialNB\n",
    "import numpy as np\n",
    "\n",
    "# alpha -> \n",
    "nb = MultinomialNB(alpha=0.1,fit_prior=False)\n",
    "\n",
    "# Train the model\n",
    "nb.fit(tfidf_train, y_train)\n",
    "\n",
    "# Take the model that was trained on the tfidf_train data and apply it to the tfidf_test\n",
    "pred_nb = nb.predict(tfidf_test)\n",
    "\n",
    "print(pred_nb)"
   ]
  },
  {
   "cell_type": "code",
   "execution_count": 44,
   "id": "9045c239-67ba-4dc9-9489-97c8c9d8a2b5",
   "metadata": {},
   "outputs": [
    {
     "name": "stdout",
     "output_type": "stream",
     "text": [
      "Accuracy of Naive Bayes model: 0.9387254901960784\n"
     ]
    }
   ],
   "source": [
    "# check the accuracy score on the testing set\n",
    "import sklearn.metrics\n",
    "accuracy2 = nb.score(tfidf_test, y_test)\n",
    "print(\"Accuracy of Naive Bayes model:\", accuracy2)"
   ]
  },
  {
   "cell_type": "code",
   "execution_count": 45,
   "id": "7e306ae0-6d23-43cb-8e05-f33495eaba34",
   "metadata": {},
   "outputs": [
    {
     "name": "stdout",
     "output_type": "stream",
     "text": [
      "              precision    recall  f1-score   support\n",
      "\n",
      "           0       0.94      0.94      0.94      9421\n",
      "           1       0.93      0.94      0.94      8531\n",
      "\n",
      "    accuracy                           0.94     17952\n",
      "   macro avg       0.94      0.94      0.94     17952\n",
      "weighted avg       0.94      0.94      0.94     17952\n",
      "\n"
     ]
    }
   ],
   "source": [
    "# classification report \n",
    "from sklearn.metrics import classification_report\n",
    "print(classification_report(pred_nb,y_test))"
   ]
  },
  {
   "cell_type": "code",
   "execution_count": 46,
   "id": "ab363284-281e-4f5b-9e7c-7837766fead7",
   "metadata": {},
   "outputs": [
    {
     "data": {
      "text/plain": [
       "array([[8838,  517],\n",
       "       [ 583, 8014]], dtype=int64)"
      ]
     },
     "execution_count": 46,
     "metadata": {},
     "output_type": "execute_result"
    }
   ],
   "source": [
    "from sklearn.metrics import confusion_matrix  \n",
    "cm2 = confusion_matrix(y_test,pred_nb)  \n",
    "cm2"
   ]
  },
  {
   "cell_type": "code",
   "execution_count": 47,
   "id": "3ef1902c-ea4d-4fa0-b9ba-d711ca95ce6d",
   "metadata": {},
   "outputs": [
    {
     "name": "stdout",
     "output_type": "stream",
     "text": [
      "Accuracy: 0.939\n",
      "Precision: 0.939\n",
      "Recall: 0.932\n",
      "F1 Score: 0.935\n"
     ]
    },
    {
     "data": {
      "image/png": "[encoded data removed]",
      "text/plain": [
       "<Figure size 640x480 with 2 Axes>"
      ]
     },
     "metadata": {},
     "output_type": "display_data"
    }
   ],
   "source": [
    "from sklearn.metrics import confusion_matrix\n",
    "import seaborn as sns\n",
    "\n",
    "cm = confusion_matrix(y_test, pred_nb) \n",
    "sns.heatmap(cm, xticklabels=['predicted_fake', 'predicted_true'], \n",
    "                yticklabels=['actual_fake', 'actual_true'],\n",
    "annot=True, fmt='d', annot_kws={'fontsize':20}, cmap=\"viridis\");\n",
    "\n",
    "plt.ylabel('Actual',fontsize=13)\n",
    "plt.xlabel('Prediction',fontsize=13)\n",
    "plt.title('Confusion Matrix - Naive Bayes',fontsize=17) \n",
    "\n",
    "\n",
    "true_neg, false_pos = cm[0]\n",
    "false_neg, true_pos = cm[1]\n",
    "\n",
    "# accuracy -> measures the proportion of correct predictions (both true positives and true negatives) out of the total number of predictions.\n",
    "accuracy = round((true_pos + true_neg) / (true_pos + true_neg + false_pos + false_neg),3)\n",
    "\n",
    "# Precision -> measures the proportion of true positives out of all the predicted positives \n",
    "# (i.e., it checks how many of the predicted positive instances were actually positive).\n",
    "precision = round((true_pos) / (true_pos + false_pos),3)\n",
    "\n",
    "# Recall measures the proportion of actual positives that were correctly predicted by the model \n",
    "# (i.e., how many positive instances were correctly identified).\n",
    "recall = round((true_pos) / (true_pos + false_neg),3)\n",
    "\n",
    "# F1 is the harmonic mean of precision and recall, providing a single measure of a model’s performance when you want to balance precision and recall.\n",
    "f1 = round(2 * (precision * recall) / (precision + recall),3)\n",
    "\n",
    "\n",
    "print('Accuracy: {}'.format(accuracy)) \n",
    "print('Precision: {}'.format(precision))\n",
    "print('Recall: {}'.format(recall))\n",
    "print('F1 Score: {}'.format(f1))"
   ]
  },
  {
   "cell_type": "markdown",
   "id": "b56567ff-1a55-4215-be83-dfd78c58e458",
   "metadata": {},
   "source": [
    "#  Random Forest Classifier"
   ]
  },
  {
   "cell_type": "code",
   "execution_count": 48,
   "id": "054e4ac8-bf31-43e4-852f-6a93452c3884",
   "metadata": {},
   "outputs": [
    {
     "name": "stdout",
     "output_type": "stream",
     "text": [
      "[1 1 1 ... 0 1 0]\n"
     ]
    }
   ],
   "source": [
    "# import Random Forest Classifier from sklearn \n",
    "from sklearn.ensemble import RandomForestClassifier\n",
    "\n",
    "# instantiate our model \n",
    "rf = RandomForestClassifier(random_state = 0, n_estimators= 125) \n",
    "# n_estimators: the number of decision trees in the forest. Increasing this hyperparameter generally improves the performance of the model \n",
    "# but also increases the computational cost of training and predicting\n",
    "\n",
    "# train our model on training data\n",
    "rf.fit(tfidf_train,y_train)\n",
    "\n",
    "# get predictions using random forest classifier\n",
    "pred_rf = rf.predict(tfidf_test)\n",
    "print(pred_rf)"
   ]
  },
  {
   "cell_type": "code",
   "execution_count": 49,
   "id": "ef2cb5fc-0192-4846-9a98-0fa0ea12a2f7",
   "metadata": {},
   "outputs": [
    {
     "name": "stdout",
     "output_type": "stream",
     "text": [
      "Accuracy of Random Forest Classifier model: 0.9903631907308378\n"
     ]
    }
   ],
   "source": [
    "# check the accuracy score on the testing set\n",
    "import sklearn.metrics\n",
    "accuracy3 = rf.score(tfidf_test, y_test)\n",
    "print(\"Accuracy of Random Forest Classifier model:\", accuracy3)"
   ]
  },
  {
   "cell_type": "code",
   "execution_count": 50,
   "id": "1be1832d-a337-47c5-8472-6c9298412251",
   "metadata": {},
   "outputs": [
    {
     "data": {
      "text/plain": [
       "array([[9251,  104],\n",
       "       [  69, 8528]], dtype=int64)"
      ]
     },
     "execution_count": 50,
     "metadata": {},
     "output_type": "execute_result"
    }
   ],
   "source": [
    "from sklearn.metrics import confusion_matrix  \n",
    "cm3 = confusion_matrix(y_test,pred_rf)  \n",
    "cm3"
   ]
  },
  {
   "cell_type": "code",
   "execution_count": 51,
   "id": "7bc66588-ffce-43f4-bc79-cbabfe19ebf2",
   "metadata": {},
   "outputs": [
    {
     "name": "stdout",
     "output_type": "stream",
     "text": [
      "Accuracy: 0.99\n",
      "Precision: 0.988\n",
      "Recall: 0.992\n",
      "F1 Score: 0.99\n"
     ]
    },
    {
     "data": {
      "image/png": "[encoded data removed]",
      "text/plain": [
       "<Figure size 640x480 with 2 Axes>"
      ]
     },
     "metadata": {},
     "output_type": "display_data"
    }
   ],
   "source": [
    "from sklearn.metrics import confusion_matrix\n",
    "import seaborn as sns\n",
    "\n",
    "cm = confusion_matrix(y_test, pred_rf) \n",
    "sns.heatmap(cm, xticklabels=['predicted_fake', 'predicted_true'], \n",
    "                yticklabels=['actual_fake', 'actual_true'],\n",
    "annot=True, fmt='d', annot_kws={'fontsize':20}, cmap=\"magma\");\n",
    "\n",
    "plt.ylabel('Actual',fontsize=13)\n",
    "plt.xlabel('Prediction',fontsize=13)\n",
    "plt.title('Confusion Matrix - Random Forest',fontsize=17) \n",
    "\n",
    "\n",
    "true_neg, false_pos = cm[0]\n",
    "false_neg, true_pos = cm[1]\n",
    "\n",
    "# accuracy -> measures the proportion of correct predictions (both true positives and true negatives) out of the total number of predictions.\n",
    "accuracy = round((true_pos + true_neg) / (true_pos + true_neg + false_pos + false_neg),3)\n",
    "\n",
    "# Precision -> measures the proportion of true positives out of all the predicted positives \n",
    "# (i.e., it checks how many of the predicted positive instances were actually positive).\n",
    "precision = round((true_pos) / (true_pos + false_pos),3)\n",
    "\n",
    "# Recall measures the proportion of actual positives that were correctly predicted by the model \n",
    "# (i.e., how many positive instances were correctly identified).\n",
    "recall = round((true_pos) / (true_pos + false_neg),3)\n",
    "\n",
    "# F1 is the harmonic mean of precision and recall, providing a single measure of a model’s performance when you want to balance precision and recall.\n",
    "f1 = round(2 * (precision * recall) / (precision + recall),3)\n",
    "\n",
    "\n",
    "print('Accuracy: {}'.format(accuracy))\n",
    "print('Precision: {}'.format(precision))\n",
    "print('Recall: {}'.format(recall))\n",
    "print('F1 Score: {}'.format(f1))"
   ]
  },
  {
   "cell_type": "markdown",
   "id": "c5c3c348-ef29-4504-965a-03dbefab2153",
   "metadata": {},
   "source": [
    "# Compare Models"
   ]
  },
  {
   "cell_type": "code",
   "execution_count": 52,
   "id": "62a9f91d-71f3-46cc-80e0-b110e0465793",
   "metadata": {},
   "outputs": [],
   "source": [
    "#creating accuracy dataframe\n",
    "accuaracy_list=pd.DataFrame({'Models':['Logistic Regression','Naive Bayes','Random Forest'],\n",
    "                            'Accuracy':[accuracy1*100,accuracy2*100,\n",
    "                                        accuracy3*100]})"
   ]
  },
  {
   "cell_type": "code",
   "execution_count": 53,
   "id": "10071a74-b84c-4391-9c45-39a4e48944f2",
   "metadata": {},
   "outputs": [
    {
     "name": "stdout",
     "output_type": "stream",
     "text": [
      "                Models   Accuracy\n",
      "0  Logistic Regression  98.412433\n",
      "1          Naive Bayes  93.872549\n",
      "2        Random Forest  99.036319\n"
     ]
    }
   ],
   "source": [
    "print(accuaracy_list)"
   ]
  },
  {
   "cell_type": "code",
   "execution_count": 54,
   "id": "d0ccafa8-2387-4f10-bf4b-1bcf6ff5631c",
   "metadata": {},
   "outputs": [
    {
     "data": {
      "image/png": "[encoded data removed]",
      "text/plain": [
       "<Figure size 640x480 with 1 Axes>"
      ]
     },
     "metadata": {},
     "output_type": "display_data"
    }
   ],
   "source": [
    "# Example list of colors\n",
    "colors = ['blue', 'green', 'red', 'purple', 'orange']\n",
    "\n",
    "# Plot with different colors for each bar\n",
    "plt.barh(accuaracy_list['Models'], accuaracy_list['Accuracy'], color=colors)\n",
    "\n",
    "plt.xlabel('Accuracy')\n",
    "plt.ylabel('Models')\n",
    "plt.title('Model Accuracy Comparison')\n",
    "plt.show()"
   ]
  },
  {
   "cell_type": "code",
   "execution_count": 55,
   "id": "4e03c703-9b27-4d4c-b2b6-d0803b8dcafd",
   "metadata": {},
   "outputs": [
    {
     "data": {
      "text/plain": [
       "['tfidfVectorizer.joblib']"
      ]
     },
     "execution_count": 55,
     "metadata": {},
     "output_type": "execute_result"
    }
   ],
   "source": [
    "import joblib\n",
    "joblib.dump(vc, 'tfidfVectorizer.joblib')"
   ]
  },
  {
   "cell_type": "code",
   "execution_count": 57,
   "id": "a29984fb-52d9-4ae2-8e02-4f0f7c1e5d46",
   "metadata": {},
   "outputs": [
    {
     "data": {
      "text/plain": [
       "['random_forest_classifier.joblib']"
      ]
     },
     "execution_count": 57,
     "metadata": {},
     "output_type": "execute_result"
    }
   ],
   "source": [
    "joblib.dump(rf, 'random_forest_classifier.joblib')"
   ]
  },
  {
   "cell_type": "markdown",
   "id": "5ab1b1eb-ebb4-4841-969a-202f33212f81",
   "metadata": {},
   "source": [
    "# Manual Testing"
   ]
  },
  {
   "cell_type": "code",
   "execution_count": 58,
   "id": "b2ec7d80-52c1-42ba-a4c4-e2f765c7c73a",
   "metadata": {},
   "outputs": [],
   "source": [
    "# function to to check the predicted class and return a string whether its a fake or true news\n",
    "def output_label(n):\n",
    "    if n==0:\n",
    "        return \"Fake News\"\n",
    "    elif n==1:\n",
    "        return \"Not Really Fake News , possible is true news\"\n",
    "\n",
    "# functions that gets a input of news(text) and does the same steps as above\n",
    "# we get the news and put into a dataframe \n",
    "# we get the news text and clean it \n",
    "# we get the clean text and tfidf the text\n",
    "# predict the news using the models we used\n",
    "def manual_test(news):\n",
    "    testing_news = {\"text\":[news]}\n",
    "    new_def_test = pd.DataFrame(testing_news)\n",
    "    new_def_test['text'] = new_def_test['text'].apply(processWord)\n",
    "    new_x_test = new_def_test['text']\n",
    "    new_tfidf_test = vc.transform(new_x_test)\n",
    "    pred_lr = lr.predict(new_tfidf_test)\n",
    "    pred_nb = nb.predict(new_tfidf_test)\n",
    "    pred_rf = rf.predict(new_tfidf_test)\n",
    "    \n",
    "    return print(\"\\n\\n Logistic Regression Prediction: {} \\n Naive Bayes Prediction: {} \\n Random Forest Prediction: {}\".format(\n",
    "        output_label(pred_lr[0]), \n",
    "        output_label(pred_nb[0]), \n",
    "        output_label(pred_rf[0])))        \n"
   ]
  },
  {
   "cell_type": "code",
   "execution_count": 59,
   "id": "b689a092-e54c-4f04-8cfa-d76839bb149d",
   "metadata": {},
   "outputs": [
    {
     "data": {
      "text/plain": [
       "'Vic Bishop Waking TimesOur reality is carefully constructed by powerful corporate, political and special interest sources in order to covertly sway public opinion. Blatant lies are often televised regarding terrorism, food, war, health, etc. They are fashioned to sway public opinion and condition viewers to accept what have become destructive societal norms.The practice of manipulating and controlling public opinion with distorted media messages has become so common that there is a whole industry formed around this. The entire role of this brainwashing industry is to figure out how to spin information to journalists, similar to the lobbying of government. It is never really clear just how much truth the journalists receive because the news industry has become complacent. The messages that it presents are shaped by corporate powers who often spend millions on advertising with the six conglomerates that own 90% of the media:General Electric (GE), News-Corp, Disney, Viacom, Time Warner, and CBS. Yet, these corporations function under many different brands, such as FOX, ABC, CNN, Comcast, Wall Street Journal, etc, giving people the perception of choice   As Tavistock s researchers showed, it was important that the victims of mass brainwashing not be aware that their environment was being controlled; there should thus be a vast number of sources for information, whose messages could be varied slightly, so as to mask the sense of external control. ~ Specialist of mass brainwashing, L. WolfeNew Brainwashing Tactic Called AstroturfWith alternative media on the rise, the propaganda machine continues to expand. Below is a video of Sharyl Attkisson, investigative reporter with CBS, during which she explains how  astroturf,  or fake grassroots movements, are used to spin information not only to influence journalists but to sway public opinion. Astroturf is a perversion of grassroots. Astroturf is when political, corporate or other special interests disguise themselves and publish blogs, start facebook and twitter accounts, publish ads, letters to the editor, or simply post comments online, to try to fool you into thinking an independent or grassroots movement is speaking. ~ Sharyl Attkisson, Investigative ReporterHow do you separate fact from fiction? Sharyl Attkisson finishes her talk with some insights on how to identify signs of propaganda and astroturfing  These methods are used to give people the impression that there is widespread support for an agenda, when, in reality, one may not exist. Astroturf tactics are also used to discredit or criticize those that disagree with certain agendas, using stereotypical names such as conspiracy theorist or quack. When in fact when someone dares to reveal the truth or questions the  official  story, it should spark a deeper curiosity and encourage further scrutiny of the information.This article (Journalist Reveals Tactics Brainwashing Industry Uses to Manipulate the Public) was originally created and published by Waking Times and is published here under a Creative Commons license with attribution to Vic Bishop and WakingTimes.com. It may be re-posted freely with proper attribution, author bio, and this copyright statement. READ MORE MSM PROPAGANDA NEWS AT: 21st Century Wire MSM Watch Files'"
      ]
     },
     "execution_count": 59,
     "metadata": {},
     "output_type": "execute_result"
    }
   ],
   "source": [
    "# observe an example of fake news that we reserved in the beginning\n",
    "fakeData_manual_testing['text'].values[2]"
   ]
  },
  {
   "cell_type": "code",
   "execution_count": 60,
   "id": "2d5f6819-71b6-46d1-b987-1ea59a8a6312",
   "metadata": {},
   "outputs": [
    {
     "data": {
      "text/plain": [
       "'LONDON (Reuters) - LexisNexis, a provider of legal, regulatory and business information, said on Tuesday it had withdrawn two products from the Chinese market in March this year after it was asked to remove some content.  The issue of academic freedom in China hit the headlines this week after the leading British academic publisher,  Cambridge University Press, said it had complied with a request to block online access to some scholarly articles in China.  It later reversed its position.   Earlier this year LexisNexis Business Insight Solutions in China was asked to remove some content from its database,  LexisNexis said in a statement.  In March 2017, the company withdrew two products (Nexis and LexisNexis Academic) from the Chinese market.  LexisNexis is owned by information group Relx. '"
      ]
     },
     "execution_count": 60,
     "metadata": {},
     "output_type": "execute_result"
    }
   ],
   "source": [
    "# observe an example of true news that we reserved in the beginning\n",
    "trueData_manual_testing['text'].values[6]"
   ]
  },
  {
   "cell_type": "code",
   "execution_count": 65,
   "id": "b69fbe29-26fb-49fd-b255-d36c3f6890f4",
   "metadata": {},
   "outputs": [
    {
     "name": "stdin",
     "output_type": "stream",
     "text": [
      " NEW YORK (Satirical Times) – In a shocking twist that has left the world reeling, a group of squirrels has reportedly filed a class-action lawsuit against a local park for \"unlawful confiscation of acorns\" and \"tree eviction without notice.\" The group, represented by the law firm Nut & Nutty, claims that park rangers have been systematically raiding their winter food supplies and relocating them without proper consent.  Lead squirrel and self-proclaimed \"Mayor of the Oak,\" Chippy McNuts, held a press conference atop the park's largest tree, stating, \"We will not stand idly by while our hard-earned acorns are taken from us. This is a violation of our basic squirrely rights!\"  The case has already sparked a nationwide debate, with animal rights activists rallying behind the squirrels, while some humans are claiming that the squirrels have \"gone too far\" in their demands, which include acorn reparations and a designated squirrel council in city planning meetings.  In response, park officials stated, \"While we acknowledge the importance of acorn storage, we cannot condone the aggressive behaviors exhibited by some of the squirrels, particularly the recent takeovers of picnic tables.\"  Legal experts are calling this case \"unprecedented\" and believe it could change the future of human-squirrel relations forever. Meanwhile, the squirrels have vowed to take their fight to the highest court – or at least the tallest tree.\n"
     ]
    },
    {
     "name": "stdout",
     "output_type": "stream",
     "text": [
      "\n",
      "\n",
      " Logistic Regression Prediction: Fake News \n",
      " Naive Bayes Prediction: Fake News \n",
      " Random Forest Prediction: Fake News\n"
     ]
    }
   ],
   "source": [
    "# make the user put an input of news \n",
    "news = str(input())\n",
    "# gets the users input and checks if the news is fake or real\n",
    "manual_test(news)"
   ]
  },
  {
   "cell_type": "code",
   "execution_count": null,
   "id": "fe75b3d3-be93-4076-8e05-5bcaa79601d3",
   "metadata": {},
   "outputs": [],
   "source": []
  }
 ],
 "metadata": {
  "kernelspec": {
   "display_name": "Python 3 (ipykernel)",
   "language": "python",
   "name": "python3"
  },
  "language_info": {
   "codemirror_mode": {
    "name": "ipython",
    "version": 3
   },
   "file_extension": ".py",
   "mimetype": "text/x-python",
   "name": "python",
   "nbconvert_exporter": "python",
   "pygments_lexer": "ipython3",
   "version": "3.12.4"
  }
 },
 "nbformat": 4,
 "nbformat_minor": 5
}
